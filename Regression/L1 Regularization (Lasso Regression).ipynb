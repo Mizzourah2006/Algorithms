{
 "cells": [
  {
   "cell_type": "markdown",
   "metadata": {},
   "source": [
    "# L1 Regularization is also known as Lasso Regression"
   ]
  },
  {
   "cell_type": "code",
   "execution_count": 1,
   "metadata": {
    "collapsed": true
   },
   "outputs": [],
   "source": [
    "import numpy as np\n",
    "import matplotlib.pyplot as plt\n",
    "% matplotlib inline\n",
    "\n",
    "N = 50\n",
    "D = 50\n"
   ]
  },
  {
   "cell_type": "code",
   "execution_count": 2,
   "metadata": {
    "collapsed": true
   },
   "outputs": [],
   "source": [
    "# uniformly distributed numbers between -5, +5\n",
    "X = (np.random.random((N, D)) - 0.5)*10\n",
    "\n",
    "# true weights - only the first 3 dimensions of X affect Y\n",
    "true_w = np.array([1, 0.5, -0.5] + [0]*(D - 3))\n",
    "\n",
    "# generate Y - add noise with variance 0.5\n",
    "Y = X.dot(true_w) + np.random.randn(N)*0.5"
   ]
  },
  {
   "cell_type": "markdown",
   "metadata": {},
   "source": [
    "# L1 Regularization term is 10"
   ]
  },
  {
   "cell_type": "code",
   "execution_count": 3,
   "metadata": {
    "collapsed": true
   },
   "outputs": [],
   "source": [
    "# perform gradient descent to find w\n",
    "costs = [] # keep track of squared error cost\n",
    "w = np.random.randn(D) / np.sqrt(D) # randomly initialize w\n",
    "learning_rate = 0.001\n",
    "l1 = 10.0 # Also try 5.0, 2.0, 1.0, 0.1 - what effect does it have on w?\n",
    "for t in xrange(500):\n",
    "  # update w\n",
    "  Yhat = X.dot(w)\n",
    "  delta = Yhat - Y\n",
    "  w = w - learning_rate*(X.T.dot(delta) + l1*np.sign(w))\n",
    "\n",
    "  # find and store the cost\n",
    "  mse = delta.dot(delta) / N\n",
    "  costs.append(mse)"
   ]
  },
  {
   "cell_type": "code",
   "execution_count": 4,
   "metadata": {
    "collapsed": false
   },
   "outputs": [
    {
     "data": {
      "text/plain": [
       "[<matplotlib.lines.Line2D at 0x779db00>]"
      ]
     },
     "execution_count": 4,
     "metadata": {},
     "output_type": "execute_result"
    },
    {
     "data": {
      "image/png": "[encoded data removed]",
      "text/plain": [
       "<matplotlib.figure.Figure at 0x72464e0>"
      ]
     },
     "metadata": {},
     "output_type": "display_data"
    }
   ],
   "source": [
    "# plot the costs\n",
    "plt.plot(costs)"
   ]
  },
  {
   "cell_type": "code",
   "execution_count": 5,
   "metadata": {
    "collapsed": false
   },
   "outputs": [
    {
     "name": "stdout",
     "output_type": "stream",
     "text": [
      "final w: [ 0.95694958  0.47945322 -0.49143302 -0.02583502 -0.02335409 -0.01513626\n",
      "  0.01831495 -0.03020275  0.0289766   0.01681349  0.00699868  0.04048645\n",
      "  0.01325446  0.01039949 -0.00853902 -0.03919775  0.02212943  0.0085462\n",
      " -0.02535757 -0.01759158 -0.00538814 -0.00160816 -0.0044796  -0.01428953\n",
      "  0.00433907  0.00174776 -0.03477079 -0.03753938  0.00399943 -0.00251937\n",
      "  0.02081719 -0.0023774  -0.02376019 -0.02083483  0.01740264 -0.00458676\n",
      "  0.03613186 -0.01079148  0.01325298 -0.00958739 -0.00414903  0.01232669\n",
      "  0.00942492  0.01126294  0.01374639  0.01341973 -0.02429446  0.01077418\n",
      " -0.00879272 -0.01888298]\n"
     ]
    },
    {
     "data": {
      "image/png": "[encoded data removed]",
      "text/plain": [
       "<matplotlib.figure.Figure at 0x7727fd0>"
      ]
     },
     "metadata": {},
     "output_type": "display_data"
    }
   ],
   "source": [
    "print \"final w:\", w\n",
    "\n",
    "# plot our w vs true w\n",
    "plt.plot(true_w, label='true w')\n",
    "plt.plot(w, label='w_map')\n",
    "plt.legend()"
   ]
  },
  {
   "cell_type": "markdown",
   "metadata": {},
   "source": [
    "# L1 Regularization term is 1"
   ]
  },
  {
   "cell_type": "code",
   "execution_count": 6,
   "metadata": {
    "collapsed": true
   },
   "outputs": [],
   "source": [
    "# perform gradient descent to find w\n",
    "costs = [] # keep track of squared error cost\n",
    "w = np.random.randn(D) / np.sqrt(D) # randomly initialize w\n",
    "learning_rate = 0.001\n",
    "l1 = 1 # Also try 5.0, 2.0, 1.0, 0.1 - what effect does it have on w?\n",
    "for t in xrange(500):\n",
    "  # update w\n",
    "  Yhat = X.dot(w)\n",
    "  delta = Yhat - Y\n",
    "  w = w - learning_rate*(X.T.dot(delta) + l1*np.sign(w))\n",
    "\n",
    "  # find and store the cost\n",
    "  mse = delta.dot(delta) / N\n",
    "  costs.append(mse)"
   ]
  },
  {
   "cell_type": "code",
   "execution_count": 7,
   "metadata": {
    "collapsed": false
   },
   "outputs": [
    {
     "data": {
      "text/plain": [
       "[<matplotlib.lines.Line2D at 0x7c2b438>]"
      ]
     },
     "execution_count": 7,
     "metadata": {},
     "output_type": "execute_result"
    },
    {
     "data": {
      "image/png": "[encoded data removed]",
      "text/plain": [
       "<matplotlib.figure.Figure at 0x7735240>"
      ]
     },
     "metadata": {},
     "output_type": "display_data"
    }
   ],
   "source": [
    "# plot the costs\n",
    "plt.plot(costs)"
   ]
  },
  {
   "cell_type": "code",
   "execution_count": 8,
   "metadata": {
    "collapsed": false
   },
   "outputs": [
    {
     "name": "stdout",
     "output_type": "stream",
     "text": [
      "final w: [  8.83402311e-01   4.94206734e-01  -5.59001999e-01  -2.79817097e-02\n",
      "   1.69374744e-04  -5.60996220e-04   8.09201745e-02  -6.42763789e-02\n",
      "   3.60137391e-02   1.03131799e-01  -2.39206720e-02   8.96701800e-03\n",
      "   1.30301252e-03  -1.51496724e-03  -2.23121768e-03  -6.55941888e-02\n",
      "   1.57753222e-04   5.48463123e-03  -2.90256755e-02   5.40996560e-02\n",
      "   4.02418046e-02   7.85838464e-04  -6.43793018e-02  -1.37012359e-02\n",
      "  -7.41499190e-03  -1.52479467e-03  -2.18269980e-03  -4.44928765e-03\n",
      "  -8.45048046e-02  -1.87080257e-03   9.24698955e-04   5.79316808e-02\n",
      "  -1.30462034e-02  -2.65743287e-02   2.88320134e-02  -1.03221474e-02\n",
      "   1.71659988e-02  -3.27451946e-02   6.01492057e-03   1.15224622e-02\n",
      "  -6.90662841e-02   5.04612847e-02  -1.22144070e-02  -1.28238888e-03\n",
      "   4.21540463e-02  -3.89220402e-02   6.39405425e-05   2.13266545e-03\n",
      "   8.34375167e-04  -3.16064914e-02]\n"
     ]
    },
    {
     "data": {
      "text/plain": [
       "<matplotlib.legend.Legend at 0x7b69b70>"
      ]
     },
     "execution_count": 8,
     "metadata": {},
     "output_type": "execute_result"
    },
    {
     "data": {
      "image/png": "[encoded data removed]",
      "text/plain": [
       "<matplotlib.figure.Figure at 0x7b69a58>"
      ]
     },
     "metadata": {},
     "output_type": "display_data"
    }
   ],
   "source": [
    "print \"final w:\", w\n",
    "\n",
    "# plot our w vs true w\n",
    "plt.plot(true_w, label='true w')\n",
    "plt.plot(w, label='w_map')\n",
    "plt.legend()"
   ]
  },
  {
   "cell_type": "code",
   "execution_count": null,
   "metadata": {
    "collapsed": true
   },
   "outputs": [],
   "source": []
  }
 ],
 "metadata": {
  "kernelspec": {
   "display_name": "Python 2",
   "language": "python",
   "name": "python2"
  },
  "language_info": {
   "codemirror_mode": {
    "name": "ipython",
    "version": 2
   },
   "file_extension": ".py",
   "mimetype": "text/x-python",
   "name": "python",
   "nbconvert_exporter": "python",
   "pygments_lexer": "ipython2",
   "version": "2.7.11"
  }
 },
 "nbformat": 4,
 "nbformat_minor": 0
}
